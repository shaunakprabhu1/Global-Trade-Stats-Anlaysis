{
 "cells": [
  {
   "cell_type": "markdown",
   "id": "c5852695",
   "metadata": {},
   "source": [
    "## Team 6\n",
    "\n",
    "### Team Members\n",
    "\n",
    "- Dileep Ravindranath Holla\n",
    "- Shaunak Prabhu\n",
    "\n",
    "Link to Dataset: https://www.kaggle.com/unitednations/global-commodity-trade-statistics"
   ]
  },
  {
   "cell_type": "code",
   "execution_count": 1,
   "id": "05fd6ed3",
   "metadata": {},
   "outputs": [],
   "source": [
    "import pandas as pd\n",
    "import re\n",
    "import numpy as np\n",
    "from py2neo import Graph\n",
    "import os \n",
    "import shutil "
   ]
  },
  {
   "cell_type": "markdown",
   "id": "318e2332",
   "metadata": {},
   "source": [
    "### Read the raw CSV file"
   ]
  },
  {
   "cell_type": "code",
   "execution_count": 2,
   "id": "realistic-robin",
   "metadata": {},
   "outputs": [
    {
     "name": "stderr",
     "output_type": "stream",
     "text": [
      "/Users/dileepholla/PycharmProjects/DataGovernance/.virtualenv/lib/python3.7/site-packages/IPython/core/interactiveshell.py:3166: DtypeWarning: Columns (2) have mixed types.Specify dtype option on import or set low_memory=False.\n",
      "  interactivity=interactivity, compiler=compiler, result=result)\n"
     ]
    }
   ],
   "source": [
    "df = pd.read_csv('commodity_trade_statistics_data.csv')"
   ]
  },
  {
   "cell_type": "markdown",
   "id": "expanded-shift",
   "metadata": {},
   "source": [
    "### Data Cleaning\n",
    "\n",
    "Replace all empty values or NaN with No Data across all columns"
   ]
  },
  {
   "cell_type": "code",
   "execution_count": 3,
   "id": "creative-guide",
   "metadata": {},
   "outputs": [
    {
     "name": "stdout",
     "output_type": "stream",
     "text": [
      "Checking field country_or_area for Nulls\n",
      "Checking field year for Nulls\n",
      "Checking field comm_code for Nulls\n",
      "Checking field commodity for Nulls\n",
      "Checking field flow for Nulls\n",
      "Checking field trade_usd for Nulls\n",
      "Checking field weight_kg for Nulls\n",
      "Checking field quantity_name for Nulls\n",
      "Checking field quantity for Nulls\n",
      "Checking field category for Nulls\n"
     ]
    }
   ],
   "source": [
    "for i in df.columns:\n",
    "    print('Checking field %s for Nulls' %i)\n",
    "    df[i] = df[i].fillna('No Data')"
   ]
  },
  {
   "cell_type": "markdown",
   "id": "42f112a1",
   "metadata": {},
   "source": [
    "### Unique ID\n",
    "\n",
    "Add an unqiue Identifier for the Data"
   ]
  },
  {
   "cell_type": "code",
   "execution_count": 4,
   "id": "massive-roommate",
   "metadata": {},
   "outputs": [],
   "source": [
    "df[\"id\"] = df.index + 1"
   ]
  },
  {
   "cell_type": "markdown",
   "id": "bibliographic-shore",
   "metadata": {},
   "source": [
    "### Write new CSV"
   ]
  },
  {
   "cell_type": "code",
   "execution_count": 5,
   "id": "front-heaven",
   "metadata": {},
   "outputs": [
    {
     "name": "stdout",
     "output_type": "stream",
     "text": [
      "New CSV file created\n"
     ]
    }
   ],
   "source": [
    "df.to_csv('cleaned.csv', index = False)\n",
    "print ('New CSV file created')"
   ]
  },
  {
   "cell_type": "markdown",
   "id": "b283ccf5",
   "metadata": {},
   "source": [
    "### Move `CSV` file to the Neo4j `import` directory"
   ]
  },
  {
   "cell_type": "code",
   "execution_count": 6,
   "id": "fa7bc5ac",
   "metadata": {},
   "outputs": [
    {
     "name": "stdout",
     "output_type": "stream",
     "text": [
      "File Moved\n"
     ]
    }
   ],
   "source": [
    "destination = '/Users/dileepholla/Library/Application Support/Neo4j Desktop/Application/relate-data/dbmss/dbms-e88658a5-5a5a-4681-9281-c6106b04fd76/import'\n",
    "shutil.move('cleaned.csv', destination)\n",
    "print ('File Moved')"
   ]
  },
  {
   "cell_type": "markdown",
   "id": "8f6b6865",
   "metadata": {},
   "source": [
    "### Connect to Neo4j "
   ]
  },
  {
   "cell_type": "code",
   "execution_count": 7,
   "id": "c08d9405",
   "metadata": {},
   "outputs": [
    {
     "name": "stdout",
     "output_type": "stream",
     "text": [
      "Connected to Neo4j!\n"
     ]
    }
   ],
   "source": [
    "uri = \"bolt://localhost:7687\"\n",
    "username = \"neo4j\"\n",
    "pwd = \"123456\"\n",
    "\n",
    "try:\n",
    "    session = Graph(uri, auth=(username, pwd))\n",
    "    print ('Connected to Neo4j!')\n",
    "except:\n",
    "    print ('Could not connect to Neo4j')"
   ]
  },
  {
   "cell_type": "markdown",
   "id": "10e10d93",
   "metadata": {},
   "source": [
    "### Create Constraints on Neo4j"
   ]
  },
  {
   "cell_type": "code",
   "execution_count": 8,
   "id": "654b6763",
   "metadata": {},
   "outputs": [],
   "source": [
    "constraints = [\n",
    "    'CREATE CONSTRAINT com IF NOT EXISTS ON (com:Commodity) ASSERT com.id IS UNIQUE;',\n",
    "    'CREATE CONSTRAINT flow IF NOT EXISTS ON (flo:Flow) ASSERT flo.flow IS UNIQUE;',\n",
    "    'CREATE CONSTRAINT cat IF NOT EXISTS ON (cat:Category) ASSERT cat.category IS UNIQUE;',\n",
    "    'CREATE CONSTRAINT country IF NOT EXISTS ON (cou:Country) ASSERT cou.country_or_area IS UNIQUE;',\n",
    "    'CREATE CONSTRAINT year IF NOT EXISTS ON(yea:Year) ASSERT yea.year IS UNIQUE;',\n",
    "    ]\n"
   ]
  },
  {
   "cell_type": "code",
   "execution_count": 9,
   "id": "0e76a31e",
   "metadata": {},
   "outputs": [
    {
     "name": "stdout",
     "output_type": "stream",
     "text": [
      "CREATE CONSTRAINT com IF NOT EXISTS ON (com:Commodity) ASSERT com.id IS UNIQUE; query run sucessfully\n",
      "CREATE CONSTRAINT flow IF NOT EXISTS ON (flo:Flow) ASSERT flo.flow IS UNIQUE; query run sucessfully\n",
      "CREATE CONSTRAINT cat IF NOT EXISTS ON (cat:Category) ASSERT cat.category IS UNIQUE; query run sucessfully\n",
      "CREATE CONSTRAINT country IF NOT EXISTS ON (cou:Country) ASSERT cou.country_or_area IS UNIQUE; query run sucessfully\n",
      "CREATE CONSTRAINT year IF NOT EXISTS ON(yea:Year) ASSERT yea.year IS UNIQUE; query run sucessfully\n"
     ]
    }
   ],
   "source": [
    "for q in constraints:\n",
    "    session.run(q)\n",
    "    print ('%s query run sucessfully' %q)\n",
    "    "
   ]
  },
  {
   "cell_type": "markdown",
   "id": "37037074",
   "metadata": {},
   "source": [
    "### Load data to Neo4j"
   ]
  },
  {
   "cell_type": "code",
   "execution_count": 10,
   "id": "eb30bfb5",
   "metadata": {},
   "outputs": [],
   "source": [
    "query = '''LOAD CSV WITH HEADERS FROM \"file:///cleaned.csv\" AS row\n",
    "create (com:Commodity {CommodityName: row.commodity, CommodityCode: row.comm_code, Quantity: row.quantity, Weight: row.weight_kg, TradeValue: row.trade_usd, QuantityName: row.quantity_name})\n",
    "MERGE (cat: Category {category: row.category})\n",
    "MERGE (cou: Country {country: row.country_or_area})\n",
    "MERGE (flo: Flow {flow: row.flow})\n",
    "MERGE (yea: Year {year: row.year})\n",
    "MERGE (com)-[:BELONGS_TO]->(cat)\n",
    "MERGE (cou)-[:EXPORTS_IMPORTS_CAT]->(cat)\n",
    "MERGE (cou)-[:REPORTS]->(yea)\n",
    "MERGE (yea)-[:HAS_TYPE]->(flo)\n",
    "MERGE (flo)-[:TRADES]-> (com)\n",
    "MERGE (flo)-[:HAS_CATEGORIES]-> (cat);'''"
   ]
  },
  {
   "cell_type": "code",
   "execution_count": 11,
   "id": "ae90c67f",
   "metadata": {},
   "outputs": [
    {
     "name": "stdout",
     "output_type": "stream",
     "text": [
      "Loaded Data to Neo4j successfully!\n"
     ]
    }
   ],
   "source": [
    "try:\n",
    "    session.run(query)\n",
    "    print ('Loaded Data to Neo4j successfully!')\n",
    "except Exception as e:\n",
    "    print ('Could not load data. Error Details: %s' %e) "
   ]
  },
  {
   "cell_type": "code",
   "execution_count": null,
   "id": "91e23a60",
   "metadata": {},
   "outputs": [],
   "source": []
  }
 ],
 "metadata": {
  "kernelspec": {
   "display_name": "Python 3",
   "language": "python",
   "name": "python3"
  },
  "language_info": {
   "codemirror_mode": {
    "name": "ipython",
    "version": 3
   },
   "file_extension": ".py",
   "mimetype": "text/x-python",
   "name": "python",
   "nbconvert_exporter": "python",
   "pygments_lexer": "ipython3",
   "version": "3.7.9"
  }
 },
 "nbformat": 4,
 "nbformat_minor": 5
}
